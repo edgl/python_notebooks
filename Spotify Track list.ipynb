{
 "metadata": {
  "name": "",
  "signature": "sha256:77a6dc6ee981178398a038e35576be679551e6607031f5a24f87e2bac82ef3ce"
 },
 "nbformat": 3,
 "nbformat_minor": 0,
 "worksheets": [
  {
   "cells": [
    {
     "cell_type": "code",
     "collapsed": false,
     "input": [
      "import json\n",
      "import requests\n",
      "import base64\n",
      "from IPython.display import HTML\n",
      "from IPython.display import display"
     ],
     "language": "python",
     "metadata": {},
     "outputs": [],
     "prompt_number": 1
    },
    {
     "cell_type": "code",
     "collapsed": false,
     "input": [
      "auth_url = \"https://accounts.spotify.com/api/token\""
     ],
     "language": "python",
     "metadata": {},
     "outputs": [],
     "prompt_number": 2
    },
    {
     "cell_type": "code",
     "collapsed": false,
     "input": [
      "client_id = \"7cd123f07a8546f68eea9ec00bc8a32d\"\n",
      "client_secret = \"e8ac8e016dc342efb1705556c72ebf4a\"\n",
      "encoded_value = base64.b64encode((client_id + ':' + client_secret).encode('UTF-8'))\n",
      "user_id = \"egleeck\"\n",
      "playlist_name = \"2.22.15\""
     ],
     "language": "python",
     "metadata": {},
     "outputs": [],
     "prompt_number": 3
    },
    {
     "cell_type": "code",
     "collapsed": false,
     "input": [
      "data = {\"grant_type\":\"client_credentials\"}\n",
      "headers = {\"Authorization\":\"Basic \" + encoded_value.decode('UTF-8')}"
     ],
     "language": "python",
     "metadata": {},
     "outputs": [],
     "prompt_number": 4
    },
    {
     "cell_type": "code",
     "collapsed": false,
     "input": [
      "# get the authorization token\n",
      "r = requests.post(auth_url, data=data, headers=headers)\n",
      "token_object = r.json()\n",
      "authorization_token = token_object['access_token']"
     ],
     "language": "python",
     "metadata": {},
     "outputs": [],
     "prompt_number": 5
    },
    {
     "cell_type": "code",
     "collapsed": false,
     "input": [
      "# Playlist\n",
      "playlist_url = \"https://api.spotify.com/v1/users/%s/playlists\" % user_id\n",
      "\n",
      "# Get playlist\n",
      "playlist_headers = {\"Authorization\":\"Bearer \" + authorization_token}\n",
      "\n",
      "# Get payload\n",
      "r = requests.get(playlist_url, headers=playlist_headers)"
     ],
     "language": "python",
     "metadata": {},
     "outputs": [],
     "prompt_number": 6
    },
    {
     "cell_type": "code",
     "collapsed": false,
     "input": [
      "# get the JSON format\n",
      "playlists = r.json()"
     ],
     "language": "python",
     "metadata": {},
     "outputs": [],
     "prompt_number": 7
    },
    {
     "cell_type": "code",
     "collapsed": false,
     "input": [
      "# get the playlist id\n",
      "for items in playlists['items']:\n",
      "    if items['name'] == playlist_name:\n",
      "        playlist_id = items['id']\n",
      "        playlist_url = items['external_urls']['spotify']\n",
      "        break\n",
      "    "
     ],
     "language": "python",
     "metadata": {},
     "outputs": [],
     "prompt_number": 8
    },
    {
     "cell_type": "code",
     "collapsed": false,
     "input": [
      "# we now have the id of the playlist\n",
      "# now get the tracks\n",
      "tracks_url = \"https://api.spotify.com/v1/users/%s/playlists/%s/tracks\" % (user_id,playlist_id)\n",
      "\n",
      "r = requests.get(tracks_url, headers = playlist_headers)"
     ],
     "language": "python",
     "metadata": {},
     "outputs": [],
     "prompt_number": 9
    },
    {
     "cell_type": "code",
     "collapsed": false,
     "input": [
      "for items in r.json()['items']:\n",
      "    display(HTML('<a href=\"' + items['track']['external_urls']['spotify'] + '\">' + items['track']['name'] + '</a>'))\n",
      "\n",
      "print(\"\")\n",
      "display(HTML('Playlist: <a href=\"' + playlist_url + '\">' + playlist_name + '</a>'))"
     ],
     "language": "python",
     "metadata": {},
     "outputs": [
      {
       "html": [
        "<a href=\"https://open.spotify.com/track/4GwzwfI1tXzlFxNiyTAAmb\">Awesome Is the Lord Most High</a>"
       ],
       "metadata": {},
       "output_type": "display_data",
       "text": [
        "<IPython.core.display.HTML at 0x7f81e0232b70>"
       ]
      },
      {
       "html": [
        "<a href=\"https://open.spotify.com/track/4um6ZMnib1I7VuG3c6jGm5\">Open The Eyes Of My Heart</a>"
       ],
       "metadata": {},
       "output_type": "display_data",
       "text": [
        "<IPython.core.display.HTML at 0x7f81e0232b70>"
       ]
      },
      {
       "html": [
        "<a href=\"https://open.spotify.com/track/2tYMb5xcXp12GHuZvhjYBJ\">Praise The Father, Praise The Son</a>"
       ],
       "metadata": {},
       "output_type": "display_data",
       "text": [
        "<IPython.core.display.HTML at 0x7f81e0232b70>"
       ]
      },
      {
       "html": [
        "<a href=\"https://open.spotify.com/track/5qT7hy6SYuGtWGGlXZ6HZO\">The Stand</a>"
       ],
       "metadata": {},
       "output_type": "display_data",
       "text": [
        "<IPython.core.display.HTML at 0x7f81e0232b70>"
       ]
      },
      {
       "html": [
        "<a href=\"https://open.spotify.com/track/5PnGufijFRcOjFGWIECNBq\">What A Friend We Have In Jesus</a>"
       ],
       "metadata": {},
       "output_type": "display_data",
       "text": [
        "<IPython.core.display.HTML at 0x7f81e0232b70>"
       ]
      },
      {
       "html": [
        "<a href=\"https://open.spotify.com/track/06K8kgZ0nT11a2eWJkSGZc\">Glorious</a>"
       ],
       "metadata": {},
       "output_type": "display_data",
       "text": [
        "<IPython.core.display.HTML at 0x7f81e0232b70>"
       ]
      },
      {
       "html": [
        "<a href=\"https://open.spotify.com/track/2Y7oaHQvCTNHpUht3rnSxk\">My Redeemer Lives</a>"
       ],
       "metadata": {},
       "output_type": "display_data",
       "text": [
        "<IPython.core.display.HTML at 0x7f81e0232b70>"
       ]
      },
      {
       "html": [
        "<a href=\"https://open.spotify.com/track/3Tg7Fx1lVW0VjZaQSiQBAM\">With All I Am - Live</a>"
       ],
       "metadata": {},
       "output_type": "display_data",
       "text": [
        "<IPython.core.display.HTML at 0x7f81e0232b70>"
       ]
      },
      {
       "output_type": "stream",
       "stream": "stdout",
       "text": [
        "\n"
       ]
      },
      {
       "html": [
        "Playlist: <a href=\"http://open.spotify.com/user/egleeck/playlist/3tAc1UNEcpf7lttnWBZ33f\">2.22.15</a>"
       ],
       "metadata": {},
       "output_type": "display_data",
       "text": [
        "<IPython.core.display.HTML at 0x7f81e01b5c18>"
       ]
      }
     ],
     "prompt_number": 10
    }
   ],
   "metadata": {}
  }
 ]
}